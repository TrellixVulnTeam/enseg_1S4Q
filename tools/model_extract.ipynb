{
 "cells": [
  {
   "cell_type": "code",
   "execution_count": 1,
   "metadata": {},
   "outputs": [],
   "source": [
    "import torch\n",
    "path='/home/wzx/weizhixiang/ensegment/work_dirs/autoencoder_Similar/iter_80000.pth'\n",
    "state=torch.load(path)['state_dict']\n",
    "# print(state.keys())"
   ]
  },
  {
   "cell_type": "code",
   "execution_count": 2,
   "metadata": {},
   "outputs": [
    {
     "name": "stdout",
     "output_type": "stream",
     "text": [
      "dict_keys(['model.model.0.conv.weight', 'model.model.0.conv.bias', 'model.model.1.conv.weight', 'model.model.1.conv.bias', 'model.model.2.conv.weight', 'model.model.2.conv.bias', 'model.model.3.conv.weight', 'model.model.3.conv.bias', 'model.model.4.conv.weight', 'model.model.4.conv.bias', 'model.model.5.conv.weight', 'model.model.5.conv.bias', 'model.model.6.block.0.conv.weight', 'model.model.6.block.0.conv.bias', 'model.model.6.block.1.conv.weight', 'model.model.6.block.1.conv.bias', 'model.model.7.block.0.conv.weight', 'model.model.7.block.0.conv.bias', 'model.model.7.block.1.conv.weight', 'model.model.7.block.1.conv.bias', 'model.model.8.block.0.conv.weight', 'model.model.8.block.0.conv.bias', 'model.model.8.block.1.conv.weight', 'model.model.8.block.1.conv.bias', 'model.model.9.conv.weight', 'model.model.9.conv.bias', 'model.model.10.conv.weight', 'model.model.10.conv.bias', 'model.model.11.conv.weight', 'model.model.11.conv.bias', 'model.model.12.conv.weight', 'model.model.12.conv.bias', 'model.model.13.conv.weight', 'model.model.13.conv.bias', 'model.model.14.conv.weight', 'model.model.14.conv.bias'])\n"
     ]
    }
   ],
   "source": [
    "def extract(state:dict,keyword:str)->dict:\n",
    "    result=dict()\n",
    "    for key,value in state.items():\n",
    "        pos=key.find(keyword)\n",
    "        if pos!=-1:\n",
    "            result[key[pos+len(keyword)+1:]]=value\n",
    "    print(result.keys())\n",
    "    return result\n",
    "rec=extract(state,'rec')\n",
    "torch.save(rec,'../pretrain/rec_in_n_c_similar')"
   ]
  },
  {
   "cell_type": "code",
   "execution_count": null,
   "metadata": {},
   "outputs": [],
   "source": [
    "import json\n",
    "import os\n",
    "with open('/home/wzx/weizhixiang/ensegment/work_dirs/deeplabv3plus_multi_r101-d8_h256w512_80k_nightcity/20211205_153132.log.json','r') as f:\n",
    "    content=f.readlines()\n",
    "    if len(content)<10:\n",
    "        print('false')\n",
    "    info=json.loads(content[-1])\n",
    "    print(info)"
   ]
  }
 ],
 "metadata": {
  "interpreter": {
   "hash": "ad465e0337d9504e76fcea2cb01ab1b78db556fc8b81ce73a4da8a3b24debea2"
  },
  "kernelspec": {
   "display_name": "Python 3.9.7 64-bit ('enseg': conda)",
   "language": "python",
   "name": "python3"
  },
  "language_info": {
   "codemirror_mode": {
    "name": "ipython",
    "version": 3
   },
   "file_extension": ".py",
   "mimetype": "text/x-python",
   "name": "python",
   "nbconvert_exporter": "python",
   "pygments_lexer": "ipython3",
   "version": "3.9.7"
  },
  "orig_nbformat": 4
 },
 "nbformat": 4,
 "nbformat_minor": 2
}
