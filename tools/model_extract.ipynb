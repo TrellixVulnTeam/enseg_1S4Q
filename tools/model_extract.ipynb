{
 "cells": [
  {
   "cell_type": "code",
   "execution_count": 1,
   "metadata": {},
   "outputs": [],
   "source": [
    "import torch\n",
    "path='/home/wzx/weizhixiang/ensegment/work_dirs/autoencoder_Similar/iter_80000.pth'\n",
    "state=torch.load(path)['state_dict']\n",
    "# print(state.keys())"
   ]
  },
  {
   "cell_type": "code",
   "execution_count": 2,
   "metadata": {},
   "outputs": [
    {
     "name": "stdout",
     "output_type": "stream",
     "text": [
      "dict_keys(['model.model.0.conv.weight', 'model.model.0.conv.bias', 'model.model.1.conv.weight', 'model.model.1.conv.bias', 'model.model.2.conv.weight', 'model.model.2.conv.bias', 'model.model.3.conv.weight', 'model.model.3.conv.bias', 'model.model.4.conv.weight', 'model.model.4.conv.bias', 'model.model.5.conv.weight', 'model.model.5.conv.bias', 'model.model.6.block.0.conv.weight', 'model.model.6.block.0.conv.bias', 'model.model.6.block.1.conv.weight', 'model.model.6.block.1.conv.bias', 'model.model.7.block.0.conv.weight', 'model.model.7.block.0.conv.bias', 'model.model.7.block.1.conv.weight', 'model.model.7.block.1.conv.bias', 'model.model.8.block.0.conv.weight', 'model.model.8.block.0.conv.bias', 'model.model.8.block.1.conv.weight', 'model.model.8.block.1.conv.bias', 'model.model.9.conv.weight', 'model.model.9.conv.bias', 'model.model.10.conv.weight', 'model.model.10.conv.bias', 'model.model.11.conv.weight', 'model.model.11.conv.bias', 'model.model.12.conv.weight', 'model.model.12.conv.bias', 'model.model.13.conv.weight', 'model.model.13.conv.bias', 'model.model.14.conv.weight', 'model.model.14.conv.bias'])\n"
     ]
    }
   ],
   "source": [
    "def extract(state:dict,keyword:str)->dict:\n",
    "    result=dict()\n",
    "    for key,value in state.items():\n",
    "        pos=key.find(keyword)\n",
    "        if pos!=-1:\n",
    "            result[key[pos+len(keyword)+1:]]=value\n",
    "    print(result.keys())\n",
    "    return result\n",
    "rec=extract(state,'rec')\n",
    "torch.save(rec,'../pretrain/rec_in_n_c_similar')"
   ]
  },
  {
   "cell_type": "code",
   "execution_count": 3,
   "metadata": {},
   "outputs": [
    {
     "name": "stdout",
     "output_type": "stream",
     "text": [
      "dict_keys(['enseg_version', 'config', 'CLASSES', 'PALETTE', 'iter', 'epoch', 'env_info', 'seed', 'exp_name', 'hook_msgs', 'mmcv_version', 'time'])\n",
      "{'last_ckpt': '/home/wzx/weizhixiang/ensegment/work_dirs/enseg_v4r50_h256w512_bs4_80k_nc/iter_24000.pth', 'best_score': 0.4169, 'best_ckpt': '/home/wzx/weizhixiang/ensegment/work_dirs/enseg_v4r50_h256w512_bs4_80k_nc/best_mIoU_iter_16000.pth'}\n"
     ]
    }
   ],
   "source": [
    "import torch\n",
    "\n",
    "p = \"/home/wzx/weizhixiang/ensegment/work_dirs/enseg_v4r50_h256w512_bs4_80k_nc/latest.pth\"\n",
    "x = torch.load(p)\n",
    "meta=x['meta']\n",
    "print(meta.keys())\n",
    "print(meta['hook_msgs'])\n"
   ]
  },
  {
   "cell_type": "code",
   "execution_count": null,
   "metadata": {},
   "outputs": [],
   "source": [
    "import torch\n",
    "from torch.utils.tensorboard import SummaryWriter\n",
    "path=SummaryWriter('.')\n",
    "for x in range(1000):\n",
    "    path.add_scalar('x',x,x)\n",
    "path=SummaryWriter('.')\n",
    "for x in range(1000,2000):\n",
    "    path.add_scalar('x',x,x)"
   ]
  }
 ],
 "metadata": {
  "interpreter": {
   "hash": "ad465e0337d9504e76fcea2cb01ab1b78db556fc8b81ce73a4da8a3b24debea2"
  },
  "kernelspec": {
   "display_name": "Python 3.9.7 64-bit ('enseg': conda)",
   "language": "python",
   "name": "python3"
  },
  "language_info": {
   "codemirror_mode": {
    "name": "ipython",
    "version": 3
   },
   "file_extension": ".py",
   "mimetype": "text/x-python",
   "name": "python",
   "nbconvert_exporter": "python",
   "pygments_lexer": "ipython3",
   "version": "3.9.7"
  },
  "orig_nbformat": 4
 },
 "nbformat": 4,
 "nbformat_minor": 2
}
