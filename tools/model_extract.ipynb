{
 "cells": [
  {
   "cell_type": "code",
   "execution_count": 1,
   "metadata": {},
   "outputs": [],
   "source": [
    "import torch\n",
    "path='/home/wzx/weizhixiang/ensegment/pretrain/deeplabveplus_r18'\n",
    "state=torch.load(path)['state_dict']\n",
    "# print(state.keys())"
   ]
  },
  {
   "cell_type": "code",
   "execution_count": 2,
   "metadata": {},
   "outputs": [
    {
     "name": "stdout",
     "output_type": "stream",
     "text": [
      "dict_keys(['stem.0.weight', 'stem.1.weight', 'stem.1.bias', 'stem.1.running_mean', 'stem.1.running_var', 'stem.1.num_batches_tracked', 'stem.3.weight', 'stem.4.weight', 'stem.4.bias', 'stem.4.running_mean', 'stem.4.running_var', 'stem.4.num_batches_tracked', 'stem.6.weight', 'stem.7.weight', 'stem.7.bias', 'stem.7.running_mean', 'stem.7.running_var', 'stem.7.num_batches_tracked', 'layer1.0.conv1.weight', 'layer1.0.bn1.weight', 'layer1.0.bn1.bias', 'layer1.0.bn1.running_mean', 'layer1.0.bn1.running_var', 'layer1.0.bn1.num_batches_tracked', 'layer1.0.conv2.weight', 'layer1.0.bn2.weight', 'layer1.0.bn2.bias', 'layer1.0.bn2.running_mean', 'layer1.0.bn2.running_var', 'layer1.0.bn2.num_batches_tracked', 'layer1.1.conv1.weight', 'layer1.1.bn1.weight', 'layer1.1.bn1.bias', 'layer1.1.bn1.running_mean', 'layer1.1.bn1.running_var', 'layer1.1.bn1.num_batches_tracked', 'layer1.1.conv2.weight', 'layer1.1.bn2.weight', 'layer1.1.bn2.bias', 'layer1.1.bn2.running_mean', 'layer1.1.bn2.running_var', 'layer1.1.bn2.num_batches_tracked', 'layer2.0.conv1.weight', 'layer2.0.bn1.weight', 'layer2.0.bn1.bias', 'layer2.0.bn1.running_mean', 'layer2.0.bn1.running_var', 'layer2.0.bn1.num_batches_tracked', 'layer2.0.conv2.weight', 'layer2.0.bn2.weight', 'layer2.0.bn2.bias', 'layer2.0.bn2.running_mean', 'layer2.0.bn2.running_var', 'layer2.0.bn2.num_batches_tracked', 'layer2.0.downsample.0.weight', 'layer2.0.downsample.1.weight', 'layer2.0.downsample.1.bias', 'layer2.0.downsample.1.running_mean', 'layer2.0.downsample.1.running_var', 'layer2.0.downsample.1.num_batches_tracked', 'layer2.1.conv1.weight', 'layer2.1.bn1.weight', 'layer2.1.bn1.bias', 'layer2.1.bn1.running_mean', 'layer2.1.bn1.running_var', 'layer2.1.bn1.num_batches_tracked', 'layer2.1.conv2.weight', 'layer2.1.bn2.weight', 'layer2.1.bn2.bias', 'layer2.1.bn2.running_mean', 'layer2.1.bn2.running_var', 'layer2.1.bn2.num_batches_tracked', 'layer3.0.conv1.weight', 'layer3.0.bn1.weight', 'layer3.0.bn1.bias', 'layer3.0.bn1.running_mean', 'layer3.0.bn1.running_var', 'layer3.0.bn1.num_batches_tracked', 'layer3.0.conv2.weight', 'layer3.0.bn2.weight', 'layer3.0.bn2.bias', 'layer3.0.bn2.running_mean', 'layer3.0.bn2.running_var', 'layer3.0.bn2.num_batches_tracked', 'layer3.0.downsample.0.weight', 'layer3.0.downsample.1.weight', 'layer3.0.downsample.1.bias', 'layer3.0.downsample.1.running_mean', 'layer3.0.downsample.1.running_var', 'layer3.0.downsample.1.num_batches_tracked', 'layer3.1.conv1.weight', 'layer3.1.bn1.weight', 'layer3.1.bn1.bias', 'layer3.1.bn1.running_mean', 'layer3.1.bn1.running_var', 'layer3.1.bn1.num_batches_tracked', 'layer3.1.conv2.weight', 'layer3.1.bn2.weight', 'layer3.1.bn2.bias', 'layer3.1.bn2.running_mean', 'layer3.1.bn2.running_var', 'layer3.1.bn2.num_batches_tracked', 'layer4.0.conv1.weight', 'layer4.0.bn1.weight', 'layer4.0.bn1.bias', 'layer4.0.bn1.running_mean', 'layer4.0.bn1.running_var', 'layer4.0.bn1.num_batches_tracked', 'layer4.0.conv2.weight', 'layer4.0.bn2.weight', 'layer4.0.bn2.bias', 'layer4.0.bn2.running_mean', 'layer4.0.bn2.running_var', 'layer4.0.bn2.num_batches_tracked', 'layer4.0.downsample.0.weight', 'layer4.0.downsample.1.weight', 'layer4.0.downsample.1.bias', 'layer4.0.downsample.1.running_mean', 'layer4.0.downsample.1.running_var', 'layer4.0.downsample.1.num_batches_tracked', 'layer4.1.conv1.weight', 'layer4.1.bn1.weight', 'layer4.1.bn1.bias', 'layer4.1.bn1.running_mean', 'layer4.1.bn1.running_var', 'layer4.1.bn1.num_batches_tracked', 'layer4.1.conv2.weight', 'layer4.1.bn2.weight', 'layer4.1.bn2.bias', 'layer4.1.bn2.running_mean', 'layer4.1.bn2.running_var', 'layer4.1.bn2.num_batches_tracked'])\n",
      "dict_keys(['conv_seg.weight', 'conv_seg.bias', 'image_pool.1.conv.weight', 'image_pool.1.bn.weight', 'image_pool.1.bn.bias', 'image_pool.1.bn.running_mean', 'image_pool.1.bn.running_var', 'image_pool.1.bn.num_batches_tracked', 'aspp_modules.0.conv.weight', 'aspp_modules.0.bn.weight', 'aspp_modules.0.bn.bias', 'aspp_modules.0.bn.running_mean', 'aspp_modules.0.bn.running_var', 'aspp_modules.0.bn.num_batches_tracked', 'aspp_modules.1.depthwise_conv.conv.weight', 'aspp_modules.1.depthwise_conv.bn.weight', 'aspp_modules.1.depthwise_conv.bn.bias', 'aspp_modules.1.depthwise_conv.bn.running_mean', 'aspp_modules.1.depthwise_conv.bn.running_var', 'aspp_modules.1.depthwise_conv.bn.num_batches_tracked', 'aspp_modules.1.pointwise_conv.conv.weight', 'aspp_modules.1.pointwise_conv.bn.weight', 'aspp_modules.1.pointwise_conv.bn.bias', 'aspp_modules.1.pointwise_conv.bn.running_mean', 'aspp_modules.1.pointwise_conv.bn.running_var', 'aspp_modules.1.pointwise_conv.bn.num_batches_tracked', 'aspp_modules.2.depthwise_conv.conv.weight', 'aspp_modules.2.depthwise_conv.bn.weight', 'aspp_modules.2.depthwise_conv.bn.bias', 'aspp_modules.2.depthwise_conv.bn.running_mean', 'aspp_modules.2.depthwise_conv.bn.running_var', 'aspp_modules.2.depthwise_conv.bn.num_batches_tracked', 'aspp_modules.2.pointwise_conv.conv.weight', 'aspp_modules.2.pointwise_conv.bn.weight', 'aspp_modules.2.pointwise_conv.bn.bias', 'aspp_modules.2.pointwise_conv.bn.running_mean', 'aspp_modules.2.pointwise_conv.bn.running_var', 'aspp_modules.2.pointwise_conv.bn.num_batches_tracked', 'aspp_modules.3.depthwise_conv.conv.weight', 'aspp_modules.3.depthwise_conv.bn.weight', 'aspp_modules.3.depthwise_conv.bn.bias', 'aspp_modules.3.depthwise_conv.bn.running_mean', 'aspp_modules.3.depthwise_conv.bn.running_var', 'aspp_modules.3.depthwise_conv.bn.num_batches_tracked', 'aspp_modules.3.pointwise_conv.conv.weight', 'aspp_modules.3.pointwise_conv.bn.weight', 'aspp_modules.3.pointwise_conv.bn.bias', 'aspp_modules.3.pointwise_conv.bn.running_mean', 'aspp_modules.3.pointwise_conv.bn.running_var', 'aspp_modules.3.pointwise_conv.bn.num_batches_tracked', 'bottleneck.conv.weight', 'bottleneck.bn.weight', 'bottleneck.bn.bias', 'bottleneck.bn.running_mean', 'bottleneck.bn.running_var', 'bottleneck.bn.num_batches_tracked', 'c1_bottleneck.conv.weight', 'c1_bottleneck.bn.weight', 'c1_bottleneck.bn.bias', 'c1_bottleneck.bn.running_mean', 'c1_bottleneck.bn.running_var', 'c1_bottleneck.bn.num_batches_tracked', 'sep_bottleneck.0.depthwise_conv.conv.weight', 'sep_bottleneck.0.depthwise_conv.bn.weight', 'sep_bottleneck.0.depthwise_conv.bn.bias', 'sep_bottleneck.0.depthwise_conv.bn.running_mean', 'sep_bottleneck.0.depthwise_conv.bn.running_var', 'sep_bottleneck.0.depthwise_conv.bn.num_batches_tracked', 'sep_bottleneck.0.pointwise_conv.conv.weight', 'sep_bottleneck.0.pointwise_conv.bn.weight', 'sep_bottleneck.0.pointwise_conv.bn.bias', 'sep_bottleneck.0.pointwise_conv.bn.running_mean', 'sep_bottleneck.0.pointwise_conv.bn.running_var', 'sep_bottleneck.0.pointwise_conv.bn.num_batches_tracked', 'sep_bottleneck.1.depthwise_conv.conv.weight', 'sep_bottleneck.1.depthwise_conv.bn.weight', 'sep_bottleneck.1.depthwise_conv.bn.bias', 'sep_bottleneck.1.depthwise_conv.bn.running_mean', 'sep_bottleneck.1.depthwise_conv.bn.running_var', 'sep_bottleneck.1.depthwise_conv.bn.num_batches_tracked', 'sep_bottleneck.1.pointwise_conv.conv.weight', 'sep_bottleneck.1.pointwise_conv.bn.weight', 'sep_bottleneck.1.pointwise_conv.bn.bias', 'sep_bottleneck.1.pointwise_conv.bn.running_mean', 'sep_bottleneck.1.pointwise_conv.bn.running_var', 'sep_bottleneck.1.pointwise_conv.bn.num_batches_tracked'])\n"
     ]
    }
   ],
   "source": [
    "def extract(state:dict,keyword:str)->dict:\n",
    "    result=dict()\n",
    "    for key,value in state.items():\n",
    "        pos=key.find(keyword)\n",
    "        if pos!=-1:\n",
    "            result[key[pos+len(keyword)+1:]]=value\n",
    "    print(result.keys())\n",
    "    return result\n",
    "backbone=extract(state,'backbone')\n",
    "decode_head=extract(state,'decode_head')\n",
    "torch.save(backbone,'../pretrain/cityscape_r18_backbone.pth')\n",
    "torch.save(decode_head,'../pretrain/cityscape_18_decode_head.pth')"
   ]
  },
  {
   "cell_type": "code",
   "execution_count": 17,
   "metadata": {},
   "outputs": [
    {
     "name": "stdout",
     "output_type": "stream",
     "text": [
      "{'mode': 'val', 'epoch': 250, 'iter': 428, 'lr': {'backbone': 0.00010038269624970405, 'seg': 0.00010038269624970405, 'aux': 0.00010038269624970405, 'dis': 0.00010000773123736777, 'gen': 0.0001}, 'aAcc': 0.8935, 'mIoU': 0.5274, 'mAcc': 0.6396, 'IoU.road': 0.9131, 'IoU.sidewalk': 0.5044, 'IoU.building': 0.8304, 'IoU.wall': 0.5792, 'IoU.fence': 0.5685, 'IoU.pole': 0.3969, 'IoU.traffic light': 0.3312, 'IoU.traffic sign': 0.4854, 'IoU.vegetation': 0.6007, 'IoU.terrain': 0.2819, 'IoU.sky': 0.8844, 'IoU.person': 0.4929, 'IoU.rider': 0.4337, 'IoU.car': 0.8034, 'IoU.truck': 0.5716, 'IoU.bus': 0.5817, 'IoU.train': 0.3175, 'IoU.motorcycle': 0.0, 'IoU.bicycle': 0.4435, 'Acc.road': 0.953, 'Acc.sidewalk': 0.6616, 'Acc.building': 0.9245, 'Acc.wall': 0.6662, 'Acc.fence': 0.7052, 'Acc.pole': 0.5183, 'Acc.traffic light': 0.437, 'Acc.traffic sign': 0.5702, 'Acc.vegetation': 0.7504, 'Acc.terrain': 0.408, 'Acc.sky': 0.9317, 'Acc.person': 0.6205, 'Acc.rider': 0.521, 'Acc.car': 0.9003, 'Acc.truck': 0.6448, 'Acc.bus': 0.7116, 'Acc.train': 0.5571, 'Acc.motorcycle': 0.0, 'Acc.bicycle': 0.6718}\n"
     ]
    }
   ],
   "source": [
    "import json\n",
    "import os\n",
    "with open('/home/wzx/weizhixiang/ensegment/work_dirs/deeplabv3plus_multi_r101-d8_h256w512_80k_nightcity/20211205_153132.log.json','r') as f:\n",
    "    content=f.readlines()\n",
    "    if len(content)<10:\n",
    "        print('false')\n",
    "    info=json.loads(content[-1])\n",
    "    print(info)"
   ]
  }
 ],
 "metadata": {
  "interpreter": {
   "hash": "ad465e0337d9504e76fcea2cb01ab1b78db556fc8b81ce73a4da8a3b24debea2"
  },
  "kernelspec": {
   "display_name": "Python 3.9.7 64-bit ('enseg': conda)",
   "language": "python",
   "name": "python3"
  },
  "language_info": {
   "codemirror_mode": {
    "name": "ipython",
    "version": 3
   },
   "file_extension": ".py",
   "mimetype": "text/x-python",
   "name": "python",
   "nbconvert_exporter": "python",
   "pygments_lexer": "ipython3",
   "version": "3.9.7"
  },
  "orig_nbformat": 4
 },
 "nbformat": 4,
 "nbformat_minor": 2
}
